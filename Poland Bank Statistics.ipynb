{
 "cells": [
  {
   "cell_type": "code",
   "execution_count": 11,
   "id": "6fc6ff3b",
   "metadata": {},
   "outputs": [],
   "source": [
    "import requests\n",
    "import pandas as pd\n",
    "import urllib.request\n",
    "import numpy as np\n",
    "\n",
    "from io import BytesIO\n",
    "from zipfile import ZipFile\n",
    "from urllib.request import  urlopen"
   ]
  },
  {
   "cell_type": "markdown",
   "id": "10aa2388",
   "metadata": {},
   "source": [
    "# Downloading Excel file"
   ]
  },
  {
   "cell_type": "code",
   "execution_count": 6,
   "id": "2f747349",
   "metadata": {},
   "outputs": [
    {
     "data": {
      "text/plain": [
       "('Stopy_proc.xlsx', <http.client.HTTPMessage at 0x19df60ad1f0>)"
      ]
     },
     "execution_count": 6,
     "metadata": {},
     "output_type": "execute_result"
    }
   ],
   "source": [
    "Url= 'https://www.nbp.pl/en/statystyka/oproc/mir_new/stopy_proc_en_srdw.xlsx'\n",
    "urllib.request.urlretrieve(Url,'Stopy_proc.xlsx')\n",
    "\n"
   ]
  },
  {
   "cell_type": "code",
   "execution_count": 13,
   "id": "29dc93ce",
   "metadata": {},
   "outputs": [
    {
     "name": "stdout",
     "output_type": "stream",
     "text": [
      "dwonloading complete\n"
     ]
    }
   ],
   "source": [
    "ZipUrl = 'https://www.nbp.pl/en/statystyka/czasowe_dwn/nalez_zobow_mif_en.zip'\n",
    "\n",
    "with urlopen(ZipUrl) as zip:\n",
    "    with ZipFile(BytesIO(zip.read())) as zfile:\n",
    "        zfile.extractall()\n",
    "    \n",
    "    \n",
    "print( \"dwonloading complete\")"
   ]
  },
  {
   "cell_type": "markdown",
   "id": "41d76011",
   "metadata": {},
   "source": [
    "# Set Parameters for collecting data"
   ]
  },
  {
   "cell_type": "code",
   "execution_count": 39,
   "id": "518243a1",
   "metadata": {},
   "outputs": [
    {
     "name": "stdout",
     "output_type": "stream",
     "text": [
      "load source parameters complete\n",
      "Processing:  Col 1\n",
      "Processing:  Col 2\n",
      "Processing:  Col 3\n",
      "Processing:  Col 4\n",
      "DONE!\n"
     ]
    }
   ],
   "source": [
    "filename = r'Poland.xlsx'\n",
    "previousSheet='Previous'\n",
    "currentSheet='Latest'\n",
    "startCol= 0\n",
    "startRow= 15\n",
    "\n",
    "dfSource =pd.read_excel(filename,sheet_name=currentSheet,index_col=0,nrows=12)\n",
    "\n",
    "print('load source parameters complete')\n",
    "\n",
    "for i, column in enumerate (dfSource.columns,1):\n",
    "    \n",
    "    print('Processing: ',column)\n",
    "    \n",
    "    f=dfSource[column]\n",
    "    \n",
    "#read file\n",
    "    df=pd.read_excel(f['Website link'],sheet_name=f['Source tab'],index_col=0,header=f['Identyfier row']-1)\n",
    "\n",
    " #Saving Data\n",
    "    data=pd.read_excel(filename,sheet_name=currentSheet)\n",
    "    with pd.ExcelWriter(filename) as writer:\n",
    "        data.to_excel(writer,sheet_name=previousSheet,index=None)\n",
    "        data.to_excel(writer,sheet_name=currentSheet,index=None)\n",
    "        df[f['Source identyfier']].to_excel(writer,sheet_name=currentSheet,header=False,index=False,startcol=i,startrow=f['Start row'])\n",
    "\n",
    "\n",
    "print('DONE!')\n"
   ]
  },
  {
   "cell_type": "code",
   "execution_count": null,
   "id": "210c0ed9",
   "metadata": {},
   "outputs": [],
   "source": []
  }
 ],
 "metadata": {
  "kernelspec": {
   "display_name": "Python 3 (ipykernel)",
   "language": "python",
   "name": "python3"
  },
  "language_info": {
   "codemirror_mode": {
    "name": "ipython",
    "version": 3
   },
   "file_extension": ".py",
   "mimetype": "text/x-python",
   "name": "python",
   "nbconvert_exporter": "python",
   "pygments_lexer": "ipython3",
   "version": "3.9.12"
  }
 },
 "nbformat": 4,
 "nbformat_minor": 5
}
